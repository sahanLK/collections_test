{
 "cells": [
  {
   "cell_type": "markdown",
   "id": "12b8ff01",
   "metadata": {},
   "source": [
    "<h1>Python Collections Module</h1><br>"
   ]
  },
  {
   "cell_type": "code",
   "execution_count": 4,
   "id": "022dbf10",
   "metadata": {},
   "outputs": [],
   "source": [
    "import collections"
   ]
  },
  {
   "cell_type": "markdown",
   "id": "203fb63c",
   "metadata": {},
   "source": [
    "<br><h3>NamedTuple</h3><br>"
   ]
  },
  {
   "cell_type": "code",
   "execution_count": 6,
   "id": "8afa7112",
   "metadata": {},
   "outputs": [],
   "source": [
    "Point = collections.namedtuple(\"Point\", \"x y\")"
   ]
  },
  {
   "cell_type": "code",
   "execution_count": 8,
   "id": "ec901378",
   "metadata": {},
   "outputs": [],
   "source": [
    "p1 = Point(10, 20)"
   ]
  },
  {
   "cell_type": "code",
   "execution_count": 12,
   "id": "40c748b3",
   "metadata": {},
   "outputs": [
    {
     "data": {
      "text/plain": [
       "Point(x=10, y=20)"
      ]
     },
     "execution_count": 12,
     "metadata": {},
     "output_type": "execute_result"
    }
   ],
   "source": [
    "p1"
   ]
  },
  {
   "cell_type": "code",
   "execution_count": 13,
   "id": "940edf09",
   "metadata": {},
   "outputs": [
    {
     "data": {
      "text/plain": [
       "10"
      ]
     },
     "execution_count": 13,
     "metadata": {},
     "output_type": "execute_result"
    }
   ],
   "source": [
    "p1.x"
   ]
  },
  {
   "cell_type": "code",
   "execution_count": 14,
   "id": "f49e7b2a",
   "metadata": {},
   "outputs": [
    {
     "data": {
      "text/plain": [
       "20"
      ]
     },
     "execution_count": 14,
     "metadata": {},
     "output_type": "execute_result"
    }
   ],
   "source": [
    "p1.y"
   ]
  },
  {
   "cell_type": "markdown",
   "id": "f80eac55",
   "metadata": {},
   "source": [
    "<br><h3>DefaultDict</h3>"
   ]
  },
  {
   "cell_type": "markdown",
   "id": "615f1988",
   "metadata": {},
   "source": [
    "Can be used to initialize default values if the key doesn't exist when accessing the dictionary. Not suitable for appplications that requires explicitly check if the dictionary key exists or not"
   ]
  },
  {
   "cell_type": "code",
   "execution_count": 15,
   "id": "48fd03a7",
   "metadata": {},
   "outputs": [],
   "source": [
    "dic = collections.defaultdict(int)  # The parameter is the datatype that is used to create default values"
   ]
  },
  {
   "cell_type": "code",
   "execution_count": 17,
   "id": "5f5841f5",
   "metadata": {},
   "outputs": [],
   "source": [
    "dic.update({\"name\": \"Sahan\", \"Age\": 24})"
   ]
  },
  {
   "cell_type": "code",
   "execution_count": 18,
   "id": "7a8bb8be",
   "metadata": {},
   "outputs": [
    {
     "data": {
      "text/plain": [
       "defaultdict(int, {'name': 'Sahan', 'Age': 24})"
      ]
     },
     "execution_count": 18,
     "metadata": {},
     "output_type": "execute_result"
    }
   ],
   "source": [
    "dic"
   ]
  },
  {
   "cell_type": "code",
   "execution_count": 20,
   "id": "da5826f2",
   "metadata": {},
   "outputs": [
    {
     "data": {
      "text/plain": [
       "0"
      ]
     },
     "execution_count": 20,
     "metadata": {},
     "output_type": "execute_result"
    }
   ],
   "source": [
    "dic['Birth_Year']"
   ]
  },
  {
   "cell_type": "markdown",
   "id": "c82bf37e",
   "metadata": {},
   "source": [
    "<br><h3>Counters</h3>"
   ]
  },
  {
   "cell_type": "markdown",
   "id": "fa2cfca3",
   "metadata": {},
   "source": [
    "A counter is a container that stores elements as dictionary keys, and their counts are stored as dictionary values."
   ]
  },
  {
   "cell_type": "code",
   "execution_count": 5,
   "id": "b9b95f44",
   "metadata": {},
   "outputs": [
    {
     "name": "stdout",
     "output_type": "stream",
     "text": [
      "Counter({2: 4, 3: 4, 1: 3, 4: 2, 5: 1})\n",
      "dict_items([(1, 3), (2, 4), (3, 4), (4, 2), (5, 1)])\n",
      "dict_keys([1, 2, 3, 4, 5])\n",
      "dict_values([3, 4, 4, 2, 1])\n"
     ]
    }
   ],
   "source": [
    "from collections import Counter\n",
    "\n",
    "myList = [1,1,2,3,4,5,3,2,3,4,2,1,2,3]\n",
    "print(Counter(myList))\n",
    "\n",
    "\n",
    "print(Counter(myList).items())\n",
    "print(Counter(myList).keys())\n",
    "print(Counter(myList).values())\n"
   ]
  },
  {
   "cell_type": "markdown",
   "id": "310d901a",
   "metadata": {},
   "source": [
    "<br><h3>OrderedDict</h3>"
   ]
  },
  {
   "cell_type": "markdown",
   "id": "5c34516b",
   "metadata": {},
   "source": [
    "Regular python dictionaries doesn't keep a tract of the order of the items. ordereddict solves this issue"
   ]
  },
  {
   "cell_type": "markdown",
   "id": "4bb3cac0",
   "metadata": {},
   "source": [
    "<br><h3>OrderedDict</h3>"
   ]
  },
  {
   "cell_type": "code",
   "execution_count": null,
   "id": "10b01fb7",
   "metadata": {},
   "outputs": [],
   "source": []
  }
 ],
 "metadata": {
  "kernelspec": {
   "display_name": "Python 3 (ipykernel)",
   "language": "python",
   "name": "python3"
  },
  "language_info": {
   "codemirror_mode": {
    "name": "ipython",
    "version": 3
   },
   "file_extension": ".py",
   "mimetype": "text/x-python",
   "name": "python",
   "nbconvert_exporter": "python",
   "pygments_lexer": "ipython3",
   "version": "3.8.17"
  }
 },
 "nbformat": 4,
 "nbformat_minor": 5
}
