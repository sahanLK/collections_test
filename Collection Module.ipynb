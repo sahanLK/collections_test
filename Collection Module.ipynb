{
 "cells": [
  {
   "cell_type": "markdown",
   "id": "1bada0a0",
   "metadata": {},
   "source": [
    "<h1>Python Collections Module</h1><br>"
   ]
  },
  {
   "cell_type": "markdown",
   "id": "84b27a32",
   "metadata": {},
   "source": [
    "<h3>NamedTuple</h3><br>"
   ]
  },
  {
   "cell_type": "code",
   "execution_count": 2,
   "id": "bf52eaad",
   "metadata": {},
   "outputs": [],
   "source": [
    "import collections"
   ]
  },
  {
   "cell_type": "markdown",
   "id": "74aa12fc",
   "metadata": {},
   "source": [
    "<br><h3>NamedTuple</h3><br>"
   ]
  },
  {
   "cell_type": "code",
   "execution_count": 6,
   "id": "642c114d",
   "metadata": {},
   "outputs": [],
   "source": [
    "Point = collections.namedtuple(\"Point\", \"x y\")"
   ]
  },
  {
   "cell_type": "code",
   "execution_count": 8,
   "id": "bb382e10",
   "metadata": {},
   "outputs": [],
   "source": [
    "p1 = Point(10, 20)"
   ]
  },
  {
   "cell_type": "code",
   "execution_count": 12,
   "id": "58208b91",
   "metadata": {},
   "outputs": [
    {
     "data": {
      "text/plain": [
       "Point(x=10, y=20)"
      ]
     },
     "execution_count": 12,
     "metadata": {},
     "output_type": "execute_result"
    }
   ],
   "source": [
    "p1"
   ]
  },
  {
   "cell_type": "code",
   "execution_count": 13,
   "id": "e50c3b7d",
   "metadata": {},
   "outputs": [
    {
     "data": {
      "text/plain": [
       "10"
      ]
     },
     "execution_count": 13,
     "metadata": {},
     "output_type": "execute_result"
    }
   ],
   "source": [
    "p1.x"
   ]
  },
  {
   "cell_type": "code",
   "execution_count": 14,
   "id": "c38d1be8",
   "metadata": {},
   "outputs": [
    {
     "data": {
      "text/plain": [
       "20"
      ]
     },
     "execution_count": 14,
     "metadata": {},
     "output_type": "execute_result"
    }
   ],
   "source": [
    "p1.y"
   ]
  },
  {
   "cell_type": "markdown",
   "id": "8ce9c2b4",
   "metadata": {},
   "source": [
    "<br><h3>DefaultDict</h3>"
   ]
  },
  {
   "cell_type": "markdown",
   "id": "0a9dc741",
   "metadata": {},
   "source": [
    "Can be used to initialize default values if the key doesn't exist when accessing the dictionary. Not suitable for appplications that requires explicitly check if the dictionary key exists or not"
   ]
  },
  {
   "cell_type": "code",
   "execution_count": 15,
   "id": "3dec82e6",
   "metadata": {},
   "outputs": [],
   "source": [
    "dic = collections.defaultdict(int)  # The parameter is the datatype that is used to create default values"
   ]
  },
  {
   "cell_type": "code",
   "execution_count": 17,
   "id": "cf97c7c9",
   "metadata": {},
   "outputs": [],
   "source": [
    "dic.update({\"name\": \"Sahan\", \"Age\": 24})"
   ]
  },
  {
   "cell_type": "code",
   "execution_count": 18,
   "id": "057db756",
   "metadata": {},
   "outputs": [
    {
     "data": {
      "text/plain": [
       "defaultdict(int, {'name': 'Sahan', 'Age': 24})"
      ]
     },
     "execution_count": 18,
     "metadata": {},
     "output_type": "execute_result"
    }
   ],
   "source": [
    "dic"
   ]
  },
  {
   "cell_type": "code",
   "execution_count": 20,
   "id": "04c9e771",
   "metadata": {},
   "outputs": [
    {
     "data": {
      "text/plain": [
       "0"
      ]
     },
     "execution_count": 20,
     "metadata": {},
     "output_type": "execute_result"
    }
   ],
   "source": [
    "dic['Birth_Year']"
   ]
  },
  {
   "cell_type": "code",
   "execution_count": null,
   "id": "d8009ca9",
   "metadata": {},
   "outputs": [],
   "source": []
  }
 ],
 "metadata": {
  "kernelspec": {
   "display_name": "Python 3 (ipykernel)",
   "language": "python",
   "name": "python3"
  },
  "language_info": {
   "codemirror_mode": {
    "name": "ipython",
    "version": 3
   },
   "file_extension": ".py",
   "mimetype": "text/x-python",
   "name": "python",
   "nbconvert_exporter": "python",
   "pygments_lexer": "ipython3",
   "version": "3.8.7"
  }
 },
 "nbformat": 4,
 "nbformat_minor": 5
}
